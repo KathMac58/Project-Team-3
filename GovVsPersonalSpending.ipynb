{
 "cells": [
  {
   "cell_type": "code",
   "execution_count": null,
   "id": "9f50e9fd-704f-4919-8650-bf3cab2c9e10",
   "metadata": {},
   "outputs": [],
   "source": [
    "#Dependencies and setup\n",
    "import matplotlib.pyplot as plt\n",
    "import pandas as pd\n",
    "import numpy as np\n",
    "from scipy.stats import linregress\n",
    "from UsefulFunctions import LinReg\n",
    "from UsefulFunctions import ScatPlotandReg\n",
    "from UsefulFunctions import ScatPlotNoReg"
   ]
  },
  {
   "cell_type": "markdown",
   "id": "8a91c16f-01b5-4ec1-a3ab-3831f9bcdc67",
   "metadata": {},
   "source": [
    "# Import Cleaned Data"
   ]
  },
  {
   "cell_type": "code",
   "execution_count": null,
   "id": "ebd7cb5a-e4ad-4cf1-862d-1945c82f2e0e",
   "metadata": {},
   "outputs": [],
   "source": []
  },
  {
   "cell_type": "markdown",
   "id": "dccb4afc-41fd-4c27-aee7-c004608941b2",
   "metadata": {},
   "source": [
    "# Comparison of Government Spending and Private Spending per Person"
   ]
  },
  {
   "cell_type": "code",
   "execution_count": null,
   "id": "320b20c6-2754-42c8-9928-17b5e174e8f1",
   "metadata": {},
   "outputs": [],
   "source": [
    "#Select necessary columns and combine on State"
   ]
  },
  {
   "cell_type": "markdown",
   "id": "39a7d17f-6ff8-425f-8011-f32d0cc30d0c",
   "metadata": {},
   "source": [
    "** Analysis of Governement and Personal Spending ** :"
   ]
  }
 ],
 "metadata": {
  "kernelspec": {
   "display_name": "Python 3 (ipykernel)",
   "language": "python",
   "name": "python3"
  },
  "language_info": {
   "codemirror_mode": {
    "name": "ipython",
    "version": 3
   },
   "file_extension": ".py",
   "mimetype": "text/x-python",
   "name": "python",
   "nbconvert_exporter": "python",
   "pygments_lexer": "ipython3",
   "version": "3.12.4"
  }
 },
 "nbformat": 4,
 "nbformat_minor": 5
}
