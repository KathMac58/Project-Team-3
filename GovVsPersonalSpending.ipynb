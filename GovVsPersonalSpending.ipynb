{
 "cells": [
  {
   "cell_type": "code",
   "execution_count": null,
   "id": "9f50e9fd-704f-4919-8650-bf3cab2c9e10",
   "metadata": {},
   "outputs": [],
   "source": [
    "#Dependencies and setup\n",
    "import matplotlib.pyplot as plt\n",
    "import pandas as pd\n",
    "import numpy as np\n",
    "from scipy.stats import linregress\n",
    "from UsefulFunctions import LinReg\n",
    "from UsefulFunctions import ScatPlotandReg\n",
    "from UsefulFunctions import ScatPlotNoReg"
   ]
  },
  {
   "cell_type": "markdown",
   "id": "8a91c16f-01b5-4ec1-a3ab-3831f9bcdc67",
   "metadata": {},
   "source": [
    "# Import Cleaned Data"
   ]
  },
  {
   "cell_type": "code",
   "execution_count": 4,
   "id": "ebd7cb5a-e4ad-4cf1-862d-1945c82f2e0e",
   "metadata": {},
   "outputs": [
    {
     "ename": "NameError",
     "evalue": "name 'pd' is not defined",
     "output_type": "error",
     "traceback": [
      "\u001b[1;31m---------------------------------------------------------------------------\u001b[0m",
      "\u001b[1;31mNameError\u001b[0m                                 Traceback (most recent call last)",
      "Cell \u001b[1;32mIn[4], line 2\u001b[0m\n\u001b[0;32m      1\u001b[0m \u001b[38;5;66;03m# Load the CSV file created in Part 1 into a Pandas DataFrame\u001b[39;00m\n\u001b[1;32m----> 2\u001b[0m census_data \u001b[38;5;241m=\u001b[39m pd\u001b[38;5;241m.\u001b[39mread_csv(\u001b[38;5;124m\"\u001b[39m\u001b[38;5;124mcensusData/ageAndSex.csv\u001b[39m\u001b[38;5;124m\"\u001b[39m)\n\u001b[0;32m      4\u001b[0m \u001b[38;5;66;03m# Display sample data\u001b[39;00m\n\u001b[0;32m      5\u001b[0m census_data\u001b[38;5;241m.\u001b[39mhead(\u001b[38;5;241m10\u001b[39m)\n",
      "\u001b[1;31mNameError\u001b[0m: name 'pd' is not defined"
     ]
    }
   ],
   "source": [
    "# Load the CSV file created in Part 1 into a Pandas DataFrame\n",
    "census_data = pd.read_csv(\"censusData/ageAndSex.csv\")\n",
    "\n",
    "# Display sample data\n",
    "census_data.head(10)"
   ]
  },
  {
   "cell_type": "markdown",
   "id": "dccb4afc-41fd-4c27-aee7-c004608941b2",
   "metadata": {},
   "source": [
    "# Comparison of Government Spending and Private Spending per Person"
   ]
  },
  {
   "cell_type": "code",
   "execution_count": null,
   "id": "320b20c6-2754-42c8-9928-17b5e174e8f1",
   "metadata": {},
   "outputs": [],
   "source": [
    "#Select necessary columns and combine on State"
   ]
  },
  {
   "cell_type": "markdown",
   "id": "39a7d17f-6ff8-425f-8011-f32d0cc30d0c",
   "metadata": {},
   "source": [
    "** Analysis of Governement and Personal Spending ** :"
   ]
  },
  {
   "cell_type": "code",
   "execution_count": null,
   "id": "037b2302-f3c2-4b15-a00d-dc093e8f052c",
   "metadata": {},
   "outputs": [],
   "source": []
  }
 ],
 "metadata": {
  "kernelspec": {
   "display_name": "Python 3 (ipykernel)",
   "language": "python",
   "name": "python3"
  },
  "language_info": {
   "codemirror_mode": {
    "name": "ipython",
    "version": 3
   },
   "file_extension": ".py",
   "mimetype": "text/x-python",
   "name": "python",
   "nbconvert_exporter": "python",
   "pygments_lexer": "ipython3",
   "version": "3.12.4"
  }
 },
 "nbformat": 4,
 "nbformat_minor": 5
}
