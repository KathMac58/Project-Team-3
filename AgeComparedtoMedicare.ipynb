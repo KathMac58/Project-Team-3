{
 "cells": [
  {
   "cell_type": "code",
   "execution_count": null,
   "id": "685c5b98-3635-4c9a-8872-fbe6ac7bda57",
   "metadata": {},
   "outputs": [],
   "source": [
    "#Dependencies and setup\n",
    "import matplotlib.pyplot as plt\n",
    "import pandas as pd\n",
    "import numpy as np\n",
    "from scipy.stats import linregress\n",
    "from UsefulFunctions import LinReg\n",
    "from UsefulFunctions import ScatPlotandReg\n",
    "from UsefulFunctions import ScatPlotNoReg"
   ]
  },
  {
   "cell_type": "markdown",
   "id": "5be5122f-9964-4414-a149-ac406f593d52",
   "metadata": {},
   "source": [
    "# Import Cleaned Data"
   ]
  },
  {
   "cell_type": "code",
   "execution_count": null,
   "id": "51329210-ca43-4079-9322-0a66f6816676",
   "metadata": {},
   "outputs": [],
   "source": []
  },
  {
   "cell_type": "code",
   "execution_count": null,
   "id": "eb4f8b36-1ee7-4b1a-9a42-be2e07de2b75",
   "metadata": {},
   "outputs": [],
   "source": []
  },
  {
   "cell_type": "markdown",
   "id": "5de5e124-581f-49ff-8999-e82e8a8b8acc",
   "metadata": {},
   "source": [
    "# Comparison of Medicare and Age"
   ]
  },
  {
   "cell_type": "code",
   "execution_count": null,
   "id": "87514181-f2f6-4c5d-95b1-78be1cc83746",
   "metadata": {},
   "outputs": [],
   "source": [
    "#Select necessary columns and combine on State (Aggregate and Age Census)"
   ]
  },
  {
   "cell_type": "markdown",
   "id": "59c051d0-cea7-42c6-b655-14d848827033",
   "metadata": {},
   "source": [
    "** Analysis of Medicare and Age ** :"
   ]
  }
 ],
 "metadata": {
  "kernelspec": {
   "display_name": "Python 3 (ipykernel)",
   "language": "python",
   "name": "python3"
  },
  "language_info": {
   "codemirror_mode": {
    "name": "ipython",
    "version": 3
   },
   "file_extension": ".py",
   "mimetype": "text/x-python",
   "name": "python",
   "nbconvert_exporter": "python",
   "pygments_lexer": "ipython3",
   "version": "3.12.4"
  }
 },
 "nbformat": 4,
 "nbformat_minor": 5
}
