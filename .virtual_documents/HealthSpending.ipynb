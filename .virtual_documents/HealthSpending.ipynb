#Dependencies and setup
import matplotlib.pyplot as plt
import pandas as pd
import numpy as np
from scipy.stats import linregress





#Import spending CSVs
CaidAgg_df = pd.read_csv("SpendingData/MEDICAID_AGGREGATE20.CSV")
CaidEnroll_df = pd.read_csv("SpendingData/MEDICAID_ENROLLMENT20.CSV")
CaidPerEnroll_df = pd.read_csv("SpendingData/MEDICAID_PER_ENROLLEE20.CSV")
CareAgg_df = pd.read_csv("SpendingData/MEDICARE_AGGREGATE20.CSV")
CareEnroll_df = pd.read_csv("SpendingData/MEDICARE_ENROLLMENT20.CSV")
CarePerEnroll_df = pd.read_csv("SpendingData/MEDICARE_PER_ENROLLEE20.CSV")
PHIAgg_df = pd.read_csv("SpendingData/PHI_AGGREGATE20.CSV")
PHIEnroll_df = pd.read_csv("SpendingData/PHI_ENROLLMENT20.CSV")
PHIPerEnroll_df = pd.read_csv("SpendingData/PHI_PER_ENROLLEE20.CSV")
USPop_df = pd.read_csv("SpendingData/US_POPULATION20.CSV")
#Trim spending CSVs into relavent time period (2010-2020)
CaidAgg_df = CaidAgg_df.dropna(how = 'any')
CaidEnroll_df = CaidEnroll_df.dropna(how = 'any')
CaidPerEnroll_df = CaidPerEnroll_df.dropna(how = 'any')
CareAgg_df = CareAgg_df.dropna(how = 'any')
CareEnroll_df = CareEnroll_df.dropna(how = 'any')
CarePerEnroll_df = CarePerEnroll_df.dropna(how = 'any')
PHIAgg_df = PHIAgg_df.dropna(how = 'any')
PHIEnroll_df = PHIEnroll_df.dropna(how = 'any')
PHIPerEnroll_df = PHIPerEnroll_df.dropna(how = 'any')
USPop_df = USPop_df.dropna(how = 'any')
#Find wanted columns for the spending CSVs
CSVCols = ["Y"+str(x) for x in range(2010,2018)]
CSVCols.insert(0,'State_Name')
CSVCols.append('Code')
CSVCols.append('Item')
TCaidAgg_df = CaidAgg_df[CSVCols]
TCaidEnroll_df = CaidEnroll_df[CSVCols]
TCaidPerEnroll_df = CaidPerEnroll_df[CSVCols]
TCareAgg_df = CareAgg_df[CSVCols]
TCareEnroll_df = CareEnroll_df[CSVCols]
TCarePerEnroll_df = CarePerEnroll_df[CSVCols]
TPHIAgg_df = PHIAgg_df[CSVCols]
TPHIEnroll_df = PHIEnroll_df[CSVCols]
TPHIPerEnroll_df = PHIPerEnroll_df[CSVCols]
USPop_df = USPop_df[CSVCols]
TCaidAgg_df.to_csv("CleanedData/MedicadeAggregate.csv",index = False,header = True)
TCareAgg_df.to_csv("CleanedData/MedicareAggregate.csv",index = False,header = True)
TPHIAgg_df.to_csv("CleanedData/PHIAggregate.csv",index = False,header = True)
TCaidEnroll_df.to_csv("CleanedData/MedicadeEnroll.csv",index = False,header = True)
TCaidPerEnroll_df.to_csv("CleanedData/MedicadePerEnroll.csv",index = False,header = True)
TCareEnroll_df.to_csv("CleanedData/MedicareEnroll.csv",index = False,header = True)
TCarePerEnroll_df.to_csv("CleanedData/MedicarePerEnroll.csv",index = False,header = True)
TPHIEnroll_df.to_csv("CleanedData/PHIEnroll.csv",index = False,header = True)
TPHIPerEnroll_df.to_csv("CleanedData/PHIPerEnroll.csv",index = False,header = True)
USPop_df.to_csv("CleanedData/USPop.csv")
#Import Census CSVs

#Trim Census CSVs into relavent time period (2010-2020)

#Import death CSV

#Trim death CSV to relavent time period (2010-2020)

# Create extra Columns needed for data






#pull the census data frame
AgeAndSexdf = pd.read_csv("CensusData/AgeAndSex.csv")
AgeAndSexdf.columns



TAgeAndSexdf = AgeAndSexdf[["Acsst5Y2010.S0101-Data.1.2","Geographic Area Name","Total  Estimate  Total Population","Total  Estimate  Selected Age Categories 65 Years And Over"]]
TChangeAgeAndSexdf = TAgeAndSexdf.loc[TAgeAndSexdf["Acsst5Y2010.S0101-Data.1.2"]!=2020]
TChangeAgeAndSexdf = TChangeAgeAndSexdf.loc[TAgeAndSexdf["Acsst5Y2010.S0101-Data.1.2"]!=2019]
TChangeAgeAndSexdf = TChangeAgeAndSexdf.loc[TAgeAndSexdf["Acsst5Y2010.S0101-Data.1.2"]!=2018]
TChangeAgeAndSexdf = TChangeAgeAndSexdf.loc[TAgeAndSexdf["Acsst5Y2010.S0101-Data.1.2"]!=2017]
TChangeAgeAndSexdf["Total  Estimate  Selected Age Categories 65 Years And Over"] = round((TChangeAgeAndSexdf["Total  Estimate  Selected Age Categories 65 Years And Over"]/100*TChangeAgeAndSexdf["Total  Estimate  Total Population"]),0)
#TChangeAgeAndSexdf
T2017AgeAndSexdf = TAgeAndSexdf.loc[TAgeAndSexdf["Acsst5Y2010.S0101-Data.1.2"]==2017]
TChangeAgeAndSexdf = pd.concat([TChangeAgeAndSexdf,T2017AgeAndSexdf])
TChangeAgeAndSexdf = TChangeAgeAndSexdf.loc[TChangeAgeAndSexdf['Geographic Area Name']!="Puerto Rico"]
TChangeAgeAndSexdf.to_csv("CleanedData/MedicarePopulation.csv")



#SumCareAgg = TCareAgg_df.groupby(["State_Name"]).sum()

SumCareAgg10 = TCareAgg_df[["State_Name","Y2010","Code","Item"]]
SumCareAgg10["Year"] = "2010"
SumCareAgg10 = SumCareAgg10.rename(columns={'Y2010':'Cost'})
SumCareAgg11 = TCareAgg_df[["State_Name","Y2011","Code","Item"]]
SumCareAgg11["Year"] = "2011"
SumCareAgg11 = SumCareAgg11.rename(columns={'Y2011':'Cost'})
SumCareAgg12 = TCareAgg_df[["State_Name","Y2012","Code","Item"]]
SumCareAgg12["Year"] = "2012"
SumCareAgg12 = SumCareAgg12.rename(columns={'Y2012':'Cost'})
SumCareAgg13 = TCareAgg_df[["State_Name","Y2013","Code","Item"]]
SumCareAgg13["Year"] = "2013"
SumCareAgg13 = SumCareAgg13.rename(columns={'Y2013':'Cost'})
SumCareAgg14 = TCareAgg_df[["State_Name","Y2014","Code","Item"]]
SumCareAgg14["Year"] = "2014"
SumCareAgg14 = SumCareAgg14.rename(columns={'Y2014':'Cost'})
SumCareAgg15 = TCareAgg_df[["State_Name","Y2015","Code","Item"]]
SumCareAgg15["Year"] = "2015"
SumCareAgg15 = SumCareAgg15.rename(columns={'Y2015':'Cost'})
SumCareAgg16 = TCareAgg_df[["State_Name","Y2016","Code","Item"]]
SumCareAgg16["Year"] = "2016"
SumCareAgg16 = SumCareAgg16.rename(columns={'Y2016':'Cost'})
SumCareAgg17 = TCareAgg_df[["State_Name","Y2017","Code","Item"]]
SumCareAgg17["Year"] = "2017"
SumCareAgg17 = SumCareAgg17.rename(columns={'Y2017':'Cost'})
NewCareAgg = pd.concat([SumCareAgg10,SumCareAgg11,SumCareAgg12,SumCareAgg13,SumCareAgg14,SumCareAgg15,SumCareAgg16,SumCareAgg17])
NewCareAgg.to_csv("CleanedData/MedicareAggregateTall.csv")






SumCaidAgg = TCaidAgg_df.sum()
SumCareAgg = TCareAgg_df.sum()
SumPHIAgg = TPHIAgg_df.sum()
SumCaidAgg = SumCaidAgg[["Y"+str(x) for x in range(2010,2018)]]
SumCareAgg = SumCareAgg[["Y"+str(x) for x in range(2010,2018)]]
SumPHIAgg = SumPHIAgg[["Y"+str(x) for x in range(2010,2018)]]
Caid10YAvg = round(SumCaidAgg.mean(),2)
Care10YAvg = round(SumCareAgg.mean(),2)
PHI10YAvg = round(SumPHIAgg.mean(),2)
#Graph the 3 different types of insurance payments over time.
SumCaidAgg.plot(kind = 'line',label = 'Medicaid')
SumCareAgg.plot(kind = 'line',label = 'Medicare')
SumPHIAgg.plot(kind = 'line',label = 'Private Health Insurance')
plt.xlabel('Years')
plt.ylabel('Healthcare Spending Millions of Dollars')
plt.legend(loc = 'best')
plt.savefig(f"Graphs/HealthcareSpendingOverTime")
plt.show()

#Pie graph of 3 10 year Averages
plt.pie([Caid10YAvg,Care10YAvg,PHI10YAvg],labels = ["Medicaid","Medicare","Private Health Insurance"],autopct='%1.1f%%')
plt.title('7 Year Average')
plt.savefig(f"Graphs/10YearSpendingAverage")
plt.show()
plt.pie([SumCaidAgg['Y2010'],SumCareAgg['Y2010'],SumPHIAgg['Y2010']],labels = ["Medicaid","Medicare","Private Health Insurance"],autopct='%1.1f%%')
plt.title('2010 Total Helthcare Spending')
plt.savefig(f"Graphs/2010SpendingPercentage")
plt.show()
plt.pie([SumCaidAgg['Y2018'],SumCareAgg['Y2018'],SumPHIAgg['Y2018']],labels = ["Medicaid","Medicare","Private Health Insurance"],autopct='%1.1f%%')
plt.title('2020 Total Helthcare Spending')
plt.savefig(f"Graphs/2020SpendingPercentage")
plt.show()





#Define LinReg Function that will calculate the Linear Regression of 2 sets of data
#Input: takes 2 data series
#Output: an array of the slope, intercept, rvalue, pvalue,stderr,line to print and line equation
def LinReg(xs,ys):
    slope, intercept, rvalue, pvalue, stderr = linregress(xs,ys)
    regvalues = slope*xs+intercept
    line_eq = "y = " + str(round(slope,2)) + "x + " + str(round(intercept,2))
    linregs = [slope,intercept,rvalue,pvalue,stderr,regvalues,line_eq]
    return linregs


#Define ScatPlotandReg creates a scatter plot with a linear Regression show as well as an Rsquared value
#Inputs: takes 2 data series, your x and y coordinates, labels for  the axises and a title
#Output shows and saves a scatterplot
def ScatPlotandReg(xs,ys,xlab,ylab,title,filename):
    reginfo = LineReg(xs,ys)
    print(f"The r^2-value is: {reginfo[2]**2}")
    plt.scatter(xs,ys)
    plt.xlabel(xlab)
    plt.ylabel(ylab)
    plt.title(title)
    plt.plot(xs,reginfo[5],color = 'r')
    plt.annotate(reginfo[6],ha = 'left',va = 'top',fontsize=15,color="red")
    plt.savefig(f"Graphs/{filename}")
    plt.show()


#Define ScatPlotNoReg creates a scatter plot
#Inputs: takes 2 data series, your x and y coordinates, labels for  the axises and a title
#Output shows and saves a scatterplot
def ScatPlotNoReg(xs,ys,xlab,ylab,title,filename):
    plt.scatter(xs,ys)
    plt.xlabel(xlab)
    plt.ylabel(ylab)
    plt.title(title)
    plt.savefig(f"Graphs/{filename}")
    plt.show()





#Select necessary columns and combine on State








#Select necessary columns and combine on State








#Select necessary columns and combine on State








#Select necessary columns and combine on State



