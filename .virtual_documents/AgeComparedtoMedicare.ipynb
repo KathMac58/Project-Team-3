#Dependencies and setup
import matplotlib.pyplot as plt
import pandas as pd
import numpy as np
from scipy.stats import linregress
from UsefulFunctions import LinReg
from UsefulFunctions import ScatPlotandReg
from UsefulFunctions import ScatPlotNoReg





# Load the CSV file created in Part 1 into a Pandas DataFrame
census_data = pd.read_csv("censusData/ageAndSex.csv")
income = pd.read_csv("censusData/income.csv")
medicare_data = pd.read_csv("cleanedData/medicadeAggregate.csv")
# Display sample data
census_data.head(10)


medicare_data.head(10)


census_data.columns # show columns



census_data.columns = ['_'.join(col).strip() for col in census_data.columns.values] #flatten the columns



census_data.columns = census_data.columns.str.strip()



census_data_clear.columns = census_data.columns.str.strip()




clea_census_data.rename(columns={'Acsst5Y2010.S0101-Data.1.2': 'Year', 'Geographic Area Name': 'Geographic_Area_Name','Total Estimate Total Population': 'Total_Population'}, inplace=True)



census_data_clear = pd.DataFrame(census_data)
census_data_clear = census_data[['Acsst5Y2010.S0101-Data.1.2','Geographic Area Name','Total Estimate Total Population','Female Estimate Percent Imputed Age']].head(20)

clea_census_data


income.head(30)





#Select necessary columns and combine on State (Aggregate and Age Census)



