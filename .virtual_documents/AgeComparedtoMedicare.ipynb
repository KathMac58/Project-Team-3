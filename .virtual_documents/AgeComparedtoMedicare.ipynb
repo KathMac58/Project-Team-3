#Dependencies and setup
import matplotlib.pyplot as plt
import pandas as pd
import numpy as np
import seaborn as sns
from scipy.stats import linregress
from UsefulFunctions import LinReg
from UsefulFunctions import ScatPlotandReg
from UsefulFunctions import ScatPlotNoReg





# Load the CSV file created in Part 1 into a Pandas DataFrame
census_data = pd.read_csv("censusData/ageAndSex.csv")
income = pd.read_csv("censusData/income.csv")
medicaid_data = pd.read_csv("cleanedData/medicadeAggregate.csv")
clea_census_data = pd.read_csv("cleanedData/medicarePopulation.csv")
medicare_data = pd.read_csv("cleanedData/medicareEnroll.csv")
# Display sample data
census_data.head(10)


medicare_data.head(10)


medicare_data.columns = medicare_data.columns.str.strip()
medicare_data.rename(columns={
    'State_Name': 'State',
    'Y2010': 'Medicare 2010',
    'Y2011': 'Medicare 2011',
    'Y2012': 'Medicare 2012',
    'Y2013': 'Medicare 2013',
    'Y2014': 'Medicare 2014',
    'Y2015': 'Medicare 2015',
    'Y2016': 'Medicare 2016',
    'Y2017': 'Medicare 2017',


    }, inplace=True)
medicare_data.head(10)


for col in medicare_data.columns:
    print(col)


medicare_data.columns = medicare_data.columns.str.replace(' +', ' ', regex=True).str.strip()

# Select the relevant columns
year_medicare_data_2010 = medicare_data[["State", "Medicare 2010"]]
year_medicare_data_2011 = medicare_data[["State", "Medicare 2011"]]
year_medicare_data_2012 = medicare_data[["State", "Medicare 2012"]]
year_medicare_data_2013 = medicare_data[["State", "Medicare 2013"]]
year_medicare_data_2014 = medicare_data[["State", "Medicare 2014"]]
year_medicare_data_2015 = medicare_data[["State", "Medicare 2015"]]
year_medicare_data_2016 = medicare_data[["State", "Medicare 2016"]]
year_medicare_data_2017 = medicare_data[["State", "Medicare 2017"]]

# Show the resulting DataFrame
year_medicare_data_2010.head(10)



clea_census_data.head()


clea_census_data.columns = clea_census_data.columns.str.strip()
clea_census_data.rename(columns={
    'Acsst5Y2010.S0101-Data.1.2': 'Year',
    'Geographic Area Name': 'State',
    'Total Estimate Total Population': 'Total Population',
    'Total Estimate Selected Age Categories 65 Years And Over': 'Age Categories 65 Years and older'
    }, inplace=True)
clea_census_data


for col in clea_census_data.columns:
    print(col)


# Remove the extra space from "Re-infested  Dwelling Unit Count" column
clea_census_data = clea_census_data.rename(
    columns={"Total  Estimate  Total Population": "Total Population", "Total  Estimate  Selected Age Categories 65 Years And Over": "Age Categories 65 Years And Over"})
#cleanup the spaces
clea_census_data.columns = clea_census_data.columns.str.replace(' +', ' ', regex=True).str.strip()



print(clea_census_data.columns)

# Clean up extra spaces in column names
clea_census_data.columns = clea_census_data.columns.str.replace(' +', ' ', regex=True).str.strip()

# Select the relevant columns
new_census_data = clea_census_data[["Year", "State", "Total Population", "Age Categories 65 Years And Over"]]

# Show the resulting DataFrame
new_census_data


selected_states = new_census_data.iloc[1:10]  # Adjust the range as needed
selected_states
#states_to_select = new_census_data[["State"]]
#states_to_select



count_states = pd.DataFrame(new_census_data)# YOUR CODE HERE

# Show Record Count
count_states.count()


for col in new_census_data.columns:
    print(col)


new_census_data = new_census_data.dropna()
new_census_data.count()


#select data per year
Year_census_data_2010 = new_census_data.loc[new_census_data["Year"] == 2010, 
                                                  ["Year", "State", "Total Population", "Age Categories 65 Years And Over"]]
Year_census_data_2011 = new_census_data.loc[new_census_data["Year"] == 2011, 
                                                  ["Year", "State", "Total Population", "Age Categories 65 Years And Over"]]
Year_census_data_2012 = new_census_data.loc[new_census_data["Year"] == 2012, 
                                                  ["Year", "State", "Total Population", "Age Categories 65 Years And Over"]]
Year_census_data_2013 = new_census_data.loc[new_census_data["Year"] == 2013, 
                                                  ["Year", "State", "Total Population", "Age Categories 65 Years And Over"]]
Year_census_data_2014 = new_census_data.loc[new_census_data["Year"] == 2014, 
                                                  ["Year", "State", "Total Population", "Age Categories 65 Years And Over"]]
Year_census_data_2015 = new_census_data.loc[new_census_data["Year"] == 2015, 
                                                  ["Year", "State", "Total Population", "Age Categories 65 Years And Over"]]
Year_census_data_2016 = new_census_data.loc[new_census_data["Year"] == 2016, 
                                                  ["Year", "State", "Total Population", "Age Categories 65 Years And Over"]]
Year_census_data_2017 = new_census_data.loc[new_census_data["Year"] == 2017, 
                                                  ["Year", "State", "Total Population", "Age Categories 65 Years And Over"]]

# Display the filtered DataFrame
Year_census_data_2010.head(5)



Year_census_data_2010_count = Year_census_data_2010['State'].count()
Year_census_data_2011_count = Year_census_data_2011['State'].count()
Year_census_data_2012_count = Year_census_data_2012['State'].count()
Year_census_data_2013_count = Year_census_data_2013['State'].count()
Year_census_data_2014_count = Year_census_data_2014['State'].count()
Year_census_data_2015_count = Year_census_data_2015['State'].count()
Year_census_data_2016_count = Year_census_data_2016['State'].count()
Year_census_data_2017_count = Year_census_data_2017['State'].count()
#Initiate a directory
state_total_counts = {}
for year in range(2010, 2018):
    year_data = eval(f'Year_census_data_{year}')  # Get the DataFrame for the year
    for state in year_data['State']:
        if state in state_total_counts:
            state_total_counts[state] += 1  # Increment count for existing state
        else:
            state_total_counts[state] = 1  # Initialize count for new state

# Display the total counts for each state
for state, count in state_total_counts.items():
    print(f"Total count for {state}: {count}")



yearly_counts = {}

# Loop through each year from 2010 to 2017
for year in range(2010, 2018):
    # Filter the data for the current year
    year_data = new_census_data.loc[new_census_data["Year"] == year]
    
    # Count the number of rows (states) for the current year
    year_count = year_data['State'].count()
    
    # Store the count in the dictionary with the year as the key
    yearly_counts[year] = year_count

# Print the yearly counts
for year, count in yearly_counts.items():
    print(f"Year {year}: {count} states")

# If you want to convert this into a DataFrame for further analysis:
yearly_counts_df = pd.DataFrame(list(yearly_counts.items()), columns=['Year', 'Total States'])
yearly_counts_df


# Filter data for the years 2010 to 2017
filtered_data = new_census_data[(new_census_data['Year'] >= 2010) & (new_census_data['Year'] <= 2017)]

# Group data by State and Year, then sum the total population for each state per year (if multiple records exist)
grouped_data = filtered_data.groupby(['Year', 'State'])['Total Population'].sum().unstack()

# Create a line plot for each state across the years 2010 to 2017
plt.figure(figsize=(16, 8))

# Plot for each state
for state in grouped_data.columns:
    plt.plot(grouped_data.index, grouped_data[state], label=state, marker='o', linestyle='-')

# Adding labels and title
plt.xlabel('Year')
plt.ylabel('Total Population')
plt.title('Total Population per State (2010–2017)')
plt.xticks(grouped_data.index)  # Ensure years are displayed correctly on the x-axis
plt.legend(bbox_to_anchor=(1.05, 1), loc='upper left', fontsize='small')  # Move legend outside of the graph
plt.grid(True)

# Adjust layout for readability
plt.tight_layout()

# Show the plot
plt.show()


grouped_data = new_census_data.groupby(['Year', 'State'])['Total Population'].sum().reset_index()

# Pivot the data so that states are columns and years are rows
pivot_data = grouped_data.pivot(index='Year', columns='State', values='Total Population')

# Create a bar chart for total population per state over the years
pivot_data.plot(kind='bar', stacked=False, figsize=(15, 8))

# Adding labels and title
plt.xlabel('Year')
plt.ylabel('Total Population')
plt.title('Total Population per State from 2010 to 2017')

# Optional: Rotate x-axis labels for better readability
plt.xticks(rotation=0)

# Show the plot
plt.tight_layout()  # Adjusts layout to fit everything nicely
plt.show()


Year_census_data_2010 = pd.DataFrame(Year_census_data_2010)

# Create a line graph for total population per state in 2010
plt.figure(figsize=(20, 7))  # Optional: Adjust figure size

# Plotting the line graph
plt.plot(Year_census_data_2010['State'], Year_census_data_2010['Total Population'], marker='o', linestyle='-', color='b')

# Adding labels and title
plt.xlabel('State')
plt.ylabel('Total Population')
plt.title('Total Population per State in 2010')

# Rotate x-axis labels for better readability
plt.xticks(rotation=75)

# Optional: Add gridlines for better readability
plt.grid(True)

# Show the plot
plt.tight_layout()  # Adjusts layout to make room for the x-axis labels
plt.show()


Year_census_data_2017 = pd.DataFrame(Year_census_data_2017)

# Create a line graph for total population per state in 2017
plt.figure(figsize=(20, 7))  # Optional: Adjust figure size

# Plotting the line graph
plt.plot(Year_census_data_2017['State'], Year_census_data_2017['Total Population'], marker='o', linestyle='-', color='b')

# Adding labels and title
plt.xlabel('State')
plt.ylabel('Total Population')
plt.title('Total Population per State in 2017')

# Rotate x-axis labels for better readability
plt.xticks(rotation=75)

# Optional: Add gridlines for better readability
plt.grid(True)

# Show the plot
plt.tight_layout()  # Adjusts layout to make room for the x-axis labels
plt.show()


top_10_states = Year_census_data_2010.nlargest(10, 'Total Population')['State'].tolist()

# Step 2: Filter the 2017 data to include only those states
filtered_data_2010 = Year_census_data_2010[Year_census_data_2010['State'].isin(top_10_states)]
filtered_data_2011 = Year_census_data_2011[Year_census_data_2011['State'].isin(top_10_states)]
filtered_data_2012 = Year_census_data_2012[Year_census_data_2012['State'].isin(top_10_states)]
filtered_data_2013 = Year_census_data_2013[Year_census_data_2013['State'].isin(top_10_states)]
filtered_data_2014 = Year_census_data_2014[Year_census_data_2014['State'].isin(top_10_states)]
filtered_data_2015 = Year_census_data_2015[Year_census_data_2015['State'].isin(top_10_states)]
filtered_data_2016 = Year_census_data_2016[Year_census_data_2016['State'].isin(top_10_states)]
filtered_data_2017 = Year_census_data_2017[Year_census_data_2017['State'].isin(top_10_states)]

filtered_data_2017


# Grouping data by year and summing the total population for each year
population_per_year = new_census_data.groupby("Year")["Total Population"].sum()

# Create the line plot
plt.figure(figsize=(10, 6))  # Optional: Adjust figure size
plt.plot(population_per_year.index, population_per_year.values, marker='o', linestyle='-', color='b')

# Add labels and title
plt.xlabel('Year')
plt.ylabel('Total Population')
plt.title('Total Population of 65 year older Per Year')

# Optional: Add gridlines for better readability
plt.grid(True)

# Show the plot
plt.show()


# print columnds 
new_census_data.columns



medicare_data.columns


new_census_data.columns = new_census_data.columns.str.strip()
medicare_data.columns = medicare_data.columns.str.strip()


print('Year' in new_census_data.columns)
print('State' in new_census_data.columns)
print('Year' in medicare_data.columns)
print('State' in medicare_data.columns)


merged_data = pd.merge(new_census_data, medicare_data, on=['State'], how='inner')  # 'inner' will keep common rows
merged_data


merged_data = merged_data.dropna()
merged_data.count()

for col in merged_data.columns:
    print(col)


new_merged_data = merged_data[["Year", "State", "Total Population", "Age Categories 65 Years And Over", "Medicare 2010", "Medicare 2011", "Medicare 2012", "Medicare 2013", "Medicare 2014", "Medicare 2015", "Medicare 2016", "Medicare 2017", "Item"]]
new_merged_data


# Select the top 10 states by Total Population
top_10_states = new_merged_data.nlargest(10, 'Total Population')

# Display the top 10 states
print(top_10_states[['State', 'Total Population']])


organized_df = new_merged_data.sort_values(by=['Item', 'State','Year'])

# Display the organized DataFrame
organized_df



# Sorting the DataFrame and resetting the index
sorted_data = new_merged_data.sort_values(by=['Item', 'Year', 'State']).reset_index(drop=True)

# Display the sorted and reindexed DataFrame
sorted_data



# Print the description of the 'Item' column
item_description = new_merged_data['Item'].describe()

# Display the result
item_description


# Get the unique descriptions of the 'Item' column
unique_item_descriptions = new_merged_data['Item'].unique()

# Print the unique descriptions
print(unique_item_descriptions)


organized_data = new_merged_data.sort_values(by=['Item', 'Year', 'State'], ascending=True)

# Display the first few rows of the organized data (or use organized_data.head())
organized_data


# Step 1: Calculate the top 10 states with the highest population
top_10_states = new_census_data.nlargest(10, 'Total Population')

# Step 2: Display the result
print(top_10_states[['State', 'Total Population']])


year_2010_data = Year_census_data_2010[Year_census_data_2010['Year'] == 2010]

# Step 2: Calculate the top 10 states with the highest population for 2010
top_10_states_2010 = year_2010_data.nlargest(20, 'Total Population')

# Step 3: Display the result
print(top_10_states_2010[['State', 'Total Population']])


# Group by the 'Year' column and count the total rows for each year
yearly_row_count = organized_data.groupby('Year').size()

# Print the result
print(yearly_row_count)


year_2010_data = new_merged_data[new_merged_data['Year'] == 2010]

# Step 2: Calculate the top 10 states with the highest Medicare spending for 2010
top_10_states_medicare_2010 = year_2010_data.nlargest(10, 'Medicare 2010')
top_10_states_overall = new_merged_data.groupby('State')['Medicare 2010'].sum().nlargest(10)

# Step 3: Display the result
print(top_10_states_medicare_2010[['State', 'Medicare 2010']])


medicare_years = ['Medicare 2010', 'Medicare 2011', 'Medicare 2012', 
                  'Medicare 2013', 'Medicare 2014', 'Medicare 2015', 
                  'Medicare 2016', 'Medicare 2017']

medicare_melted = year_2010_data.melt(id_vars=['State', 'Year'], 
                                       value_vars=medicare_years, 
                                       var_name='Medicare Year', 
                                       value_name='Medicare Amount')

# Step 1: Calculate top 10 states based on total Medicare spending across all years
top_10_states_overall = medicare_melted.groupby('State')['Medicare Amount'].sum().nlargest(10)

# Step 2: Display the results
print("Top 10 States by Total Medicare Spending:")
print(top_10_states_overall)


top_10_states_medicare_2010 = year_2010_data.nlargest(10, 'Medicare 2010')

# Step 2: Filter the original DataFrame for the top 10 states
# Assuming `year_2010_data` is the original DataFrame containing all years' data
top_10_states_all_years = year_2010_data[year_2010_data['State'].isin(top_10_states_medicare_2010['State'])]

# Step 3: Select relevant columns including Medicare spending for 2011 to 2017
top_10_states_all_years = top_10_states_all_years[["State", "Medicare 2010", "Medicare 2011", 
                                                     "Medicare 2012", "Medicare 2013", 
                                                     "Medicare 2014", "Medicare 2015", 
                                                     "Medicare 2016", "Medicare 2017"]]
top_10_states_all_years.reset_index(drop=True, inplace=True)

# Display the resulting DataFrame
print(f"The Top 10 states with expenditure on medicare: ")
top_10_states_all_years.head()


year_to_filter = 2010

# Filter the data for the specified year
filtered_data_by_year = organized_data[organized_data['Year'] == year_to_filter]

# Print the unique item descriptions for that year
unique_items = filtered_data_by_year['Item'].unique()

# Print the unique item descriptions
print(f"Unique item descriptions for the year {year_to_filter}:")
for item in unique_items:
    print(item)


Total Population Enrollment in Medicare between 2010 and 2017



grouped_data = organized_data.groupby(['Year', 'Item'])['Total Population'].sum().reset_index()

# Step 2: Create a line chart
plt.figure(figsize=(14, 8))

# Loop through each unique Item and plot
for item in grouped_data['Item'].unique():
    item_data = grouped_data[grouped_data['Item'] == item]
    plt.plot(item_data['Year'], item_data['Total Population'], marker='o', label=item)

# Step 3: Adding labels and title
plt.xlabel('Year')
plt.ylabel('Total Population')
plt.title('Total Population by Item Over Years')
plt.xticks(grouped_data['Year'].unique())  # Set x-ticks to be the unique years
plt.legend(title='Item', bbox_to_anchor=(1.05, 1), loc='upper left')  # Place legend outside the plot
plt.grid(True)

# Show the plot
plt.tight_layout()  # Adjust layout
plt.show()


# Specify the year you want to print
specific_year = 2010  # Change this to the desired year

# Filter the DataFrame for the specified year
year_data = organized_data[organized_data['Year'] == specific_year]

# Print the Year
print(f"Year: {specific_year}")

# Print each State and Item for the specified year
for index, row in year_data.iterrows():
    print(f"  State: {row['State']}, Item: {row['Item']}")


Medicare spending per state; comparison between two year 2010 and 2017


# Specify the year you want to plot
specific_year = 2010  # Change this to your desired year

# Filter the merged data for the specific year
year_data = new_merged_data[new_merged_data['Year'] == specific_year]

# Set up the plot
plt.figure(figsize=(18, 5))

# Plotting Medicare spending per state for the specified year
plt.plot(year_data['State'], year_data['Medicare 2010'], marker='o', linestyle='--', label='Medicare 2010')

plt.plot(year_data['State'], year_data['Medicare 2017'], marker='o', linestyle='--', label='Medicare 2017')

# Add more lines for additional Medicare years if needed

# Adding labels and title
plt.xlabel('State')
plt.ylabel('Medicare Spending (Millions of Dollars)')
plt.title(f'Medicare Spending by State in {specific_year}')

# Rotate x-axis labels for better readability
plt.xticks(rotation=50)

# Adding a legend
plt.legend()

# Optional: Add gridlines for better readability
plt.grid(True)

# Show the plot
plt.tight_layout()
plt.show()


Top ten states in Medicare expenditure in 2010 and 2017


specific_year = 2010

# Step 1: Filter the data for the specific year
year_data = new_merged_data[new_merged_data['Year'] == specific_year]

# Step 2: Get the top 10 states by a specific metric (e.g., 'Medicare 2010')
top_10_states = year_data.nlargest(10, 'Medicare 2010')

# Step 3: Plotting the data
plt.figure(figsize=(12, 6))

# Create a line plot for each state
for index, row in top_10_states.iterrows():
    plt.plot(row['State'], row['Medicare 2010'], marker='o', label=row['State'])

# Adding labels and title
plt.xlabel('State')
plt.ylabel('Medicare spent in 2010')
plt.title(f'Top 10 States by Medicare spent in {specific_year}')

# Rotate x-axis labels for better readability
plt.xticks(rotation=45)

# Adding a legend
plt.legend(title='States', bbox_to_anchor=(1.05, 1), loc='upper left')

# Optional: Add gridlines for better readability
plt.grid(True)

# Show the plot
plt.tight_layout()  # Adjust layout to make room for the legend
plt.show()


specific_year = 2017

# Step 1: Filter the data for the specific year
year_data = new_merged_data[new_merged_data['Year'] == specific_year]

# Step 2: Get the top 10 states by a specific metric (e.g., 'Medicare 2010')
top_10_states = year_data.nlargest(10, 'Medicare 2017')

# Step 3: Plotting the data
plt.figure(figsize=(12, 6))

# Create a line plot for each state
for index, row in top_10_states.iterrows():
    plt.plot(row['State'], row['Medicare 2017'], marker='o', label=row['State'])

# Adding labels and title
plt.xlabel('State')
plt.ylabel('Medicare spent in 2017')
plt.title(f'Top 10 States by Medicare spent in {specific_year}')

# Rotate x-axis labels for better readability
plt.xticks(rotation=45)

# Adding a legend
plt.legend(title='States', bbox_to_anchor=(1.05, 1), loc='upper left')

# Optional: Add gridlines for better readability
plt.grid(True)

# Show the plot
plt.tight_layout()  # Adjust layout to make room for the legend
plt.show()


Comparison total population in 2010 and 2017


# Step 1: Filter the data for 2010 and 2017
data_2010 = new_merged_data[new_merged_data['Year'] == 2010]
data_2017 = new_merged_data[new_merged_data['Year'] == 2017]

# Step 2: Combine the data
# We will keep only the relevant columns for comparison
comparison_data = pd.concat([data_2010[['State', 'Total Population', 'Medicare 2010']],
                              data_2017[['State', 'Total Population', 'Medicare 2017']]], 
                             keys=['2010', '2017']).reset_index(level=0).rename(columns={'level_0': 'Year'})

# Optional: Resetting index for better visualization
comparison_data.reset_index(drop=True, inplace=True)


states = comparison_data['State'].unique()
indices = np.arange(len(states))  # create a range for states

# Step 3: Plotting
fig, ax = plt.subplots(figsize=(16, 6))

# Plotting Total Population for 2010
width = 0.5  # Bar width
population_2010 = comparison_data[comparison_data['Year'] == '2010']['Total Population']
population_2017 = comparison_data[comparison_data['Year'] == '2017']['Total Population']

# Create bar plots
ax.bar(indices - width/2, population_2010, width, label='Total Population 2010', alpha=0.7)
ax.bar(indices + width/2, population_2017, width, label='Total Population 2017', alpha=0.7)

# Adding labels and title
ax.set_ylabel('Total Population')
ax.set_title('Comparison of Total Population in 2010 and 2017 by State')
ax.set_xticks(indices)  # Set x-ticks to indices
ax.set_xticklabels(states, rotation=45)  # Set the tick labels to states
ax.legend()

plt.tight_layout()
plt.show()


Relation betweent age and medicare between 2010 and 2017


age_65_over = new_merged_data.groupby('Year')['Age Categories 65 Years And Over'].sum().reset_index()

# Step 2: Plotting the data
plt.figure(figsize=(12, 6))

# Create bar plot
plt.bar(age_65_over['Year'], age_65_over['Age Categories 65 Years And Over'], color='skyblue')

# Adding labels and title
plt.xlabel('Year')
plt.ylabel('Total Age Categories 65 Years And Over')
plt.title('Comparison of enrollment in Medicare from 2010 to 2017')

# Optional: Add gridlines for better readability
plt.grid(axis='y')

# Show the plot
plt.tight_layout()
plt.show()


# Group the data by Year and State, and then get the first unique Item description
grouped_data = organized_data.groupby(['Year', 'State', 'Age Categories 65 Years And Over'])['Item'].first().reset_index()

# Get unique years from the grouped data
unique_years = grouped_data['Year'].unique()

# Loop through each year
for year in unique_years:
    print(f"Year: {year}")
    
    # Filter the DataFrame for the current year
    year_data = grouped_data[grouped_data['Year'] == year]
    
    # Print each State and Item for the current year
    for index, row in year_data.iterrows():
        print(f"  State: {row['State']}, Item: {row['Item']}, Age 65 + spend in thousand: {row['Age Categories 65 Years And Over']}")
    
    # Optional: Add a separator for better readability between years
    print()  # New line for better separation between years



