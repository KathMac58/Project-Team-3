{
 "cells": [
  {
   "cell_type": "code",
   "execution_count": null,
   "id": "7fce1288-2578-4546-b934-deedb8d6669b",
   "metadata": {},
   "outputs": [],
   "source": [
    "#Dependencies and setup\n",
    "import matplotlib.pyplot as plt\n",
    "import pandas as pd\n",
    "import numpy as np\n",
    "from scipy.stats import linregress"
   ]
  },
  {
   "cell_type": "markdown",
   "id": "d414711b-74da-41b5-badd-176d3decdaf0",
   "metadata": {},
   "source": [
    "# Linreg and Scatterplot Functions"
   ]
  },
  {
   "cell_type": "code",
   "execution_count": null,
   "id": "c8ef1097-7834-42fd-b37d-fab7e2728c62",
   "metadata": {},
   "outputs": [],
   "source": [
    "#Define LinReg Function that will calculate the Linear Regression of 2 sets of data\n",
    "#Input: takes 2 data series\n",
    "#Output: an array of the slope, intercept, rvalue, pvalue,stderr,line to print and line equation\n",
    "def LinReg(xs,ys):\n",
    "    slope, intercept, rvalue, pvalue, stderr = linregress(xs,ys)\n",
    "    regvalues = slope*xs+intercept\n",
    "    line_eq = \"y = \" + str(round(slope,2)) + \"x + \" + str(round(intercept,2))\n",
    "    linregs = [slope,intercept,rvalue,pvalue,stderr,regvalues,line_eq]\n",
    "    return linregs"
   ]
  },
  {
   "cell_type": "code",
   "execution_count": null,
   "id": "9ce24dfd-9fa9-4816-949c-0ce4adbfcc42",
   "metadata": {},
   "outputs": [],
   "source": [
    "#Define ScatPlotandReg creates a scatter plot with a linear Regression show as well as an Rsquared value\n",
    "#Inputs: takes 2 data series, your x and y coordinates, labels for  the axises and a title\n",
    "#Output shows and saves a scatterplot\n",
    "def ScatPlotandReg(xs,ys,xlab,ylab,title,filename):\n",
    "    reginfo = LineReg(xs,ys)\n",
    "    print(f\"The r^2-value is: {reginfo[2]**2}\")\n",
    "    plt.scatter(xs,ys)\n",
    "    plt.xlabel(xlab)\n",
    "    plt.ylabel(ylab)\n",
    "    plt.title(title)\n",
    "    plt.plot(xs,reginfo[5],color = 'r')\n",
    "    plt.annotate(reginfo[6],ha = 'left',va = 'top',fontsize=15,color=\"red\")\n",
    "    plt.savefig(f\"Graphs/{filename}\")\n",
    "    plt.show()"
   ]
  },
  {
   "cell_type": "code",
   "execution_count": null,
   "id": "52e3e4f2-674a-4228-9b02-375560bac721",
   "metadata": {},
   "outputs": [],
   "source": [
    "#Define ScatPlotNoReg creates a scatter plot\n",
    "#Inputs: takes 2 data series, your x and y coordinates, labels for  the axises and a title\n",
    "#Output shows and saves a scatterplot\n",
    "def ScatPlotNoReg(xs,ys,xlab,ylab,title,filename):\n",
    "    plt.scatter(xs,ys)\n",
    "    plt.xlabel(xlab)\n",
    "    plt.ylabel(ylab)\n",
    "    plt.title(title)\n",
    "    plt.savefig(f\"Graphs/{filename}\")\n",
    "    plt.show()"
   ]
  }
 ],
 "metadata": {
  "kernelspec": {
   "display_name": "Python 3 (ipykernel)",
   "language": "python",
   "name": "python3"
  },
  "language_info": {
   "codemirror_mode": {
    "name": "ipython",
    "version": 3
   },
   "file_extension": ".py",
   "mimetype": "text/x-python",
   "name": "python",
   "nbconvert_exporter": "python",
   "pygments_lexer": "ipython3",
   "version": "3.12.4"
  }
 },
 "nbformat": 4,
 "nbformat_minor": 5
}
