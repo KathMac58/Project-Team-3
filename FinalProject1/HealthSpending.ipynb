{
 "cells": [
  {
   "cell_type": "code",
   "execution_count": 1,
   "id": "1dc51a95-1f0d-4ed9-b167-f047c9a9e253",
   "metadata": {},
   "outputs": [],
   "source": [
    "#Dependencies and setup\n",
    "import matplotlib.pyplot as plt\n",
    "import pandas as pd\n",
    "import numpy as np\n",
    "from scipy.stats import linregress"
   ]
  },
  {
   "cell_type": "markdown",
   "id": "2e3369b9-dfd3-4c8f-9914-ce61963be8ed",
   "metadata": {},
   "source": [
    "# Import CSVs, trim, and prepare dataframes"
   ]
  },
  {
   "cell_type": "code",
   "execution_count": 2,
   "id": "302b5e21-e452-4cd2-845e-169a97c7624e",
   "metadata": {},
   "outputs": [],
   "source": [
    "#Import spending CSVs\n",
    "CaidAgg_df = pd.read_csv(\"SpendingData/MEDICAID_AGGREGATE20.CSV\")\n",
    "CaidEnroll_df = pd.read_csv(\"SpendingData/MEDICAID_ENROLLMENT20.CSV\")\n",
    "CaidPerEnroll_df = pd.read_csv(\"SpendingData/MEDICAID_PER_ENROLLEE20.CSV\")\n",
    "CareAgg_df = pd.read_csv(\"SpendingData/MEDICARE_AGGREGATE20.CSV\")\n",
    "CareEnroll_df = pd.read_csv(\"SpendingData/MEDICARE_ENROLLMENT20.CSV\")\n",
    "CarePerEnroll_df = pd.read_csv(\"SpendingData/MEDICARE_PER_ENROLLEE20.CSV\")\n",
    "PHIAgg_df = pd.read_csv(\"SpendingData/PHI_AGGREGATE20.CSV\")\n",
    "PHIEnroll_df = pd.read_csv(\"SpendingData/PHI_ENROLLMENT20.CSV\")\n",
    "PHIPerEnroll_df = pd.read_csv(\"SpendingData/PHI_PER_ENROLLEE20.CSV\")\n",
    "USPop_df = pd.read_csv(\"SpendingData/US_POPULATION20.CSV\")\n",
    "#Trim spending CSVs into relavent time period (2010-2020)\n",
    "CaidAgg_df = CaidAgg_df.dropna(how = 'any')\n",
    "CaidEnroll_df = CaidEnroll_df.dropna(how = 'any')\n",
    "CaidPerEnroll_df = CaidPerEnroll_df.dropna(how = 'any')\n",
    "CareAgg_df = CareAgg_df.dropna(how = 'any')\n",
    "CareEnroll_df = CareEnroll_df.dropna(how = 'any')\n",
    "CarePerEnroll_df = CarePerEnroll_df.dropna(how = 'any')\n",
    "PHIAgg_df = PHIAgg_df.dropna(how = 'any')\n",
    "PHIEnroll_df = PHIEnroll_df.dropna(how = 'any')\n",
    "PHIPerEnroll_df = PHIPerEnroll_df.dropna(how = 'any')\n",
    "USPop_df = USPop_df.dropna(how = 'any')\n",
    "#Find wanted columns for the spending CSVs\n",
    "CSVCols = [\"Y\"+str(x) for x in range(2010,2018)]\n",
    "CSVCols.insert(0,'State_Name')\n",
    "CSVCols.append('Code')\n",
    "CSVCols.append('Item')\n",
    "TCaidAgg_df = CaidAgg_df[CSVCols]\n",
    "TCaidEnroll_df = CaidEnroll_df[CSVCols]\n",
    "TCaidPerEnroll_df = CaidPerEnroll_df[CSVCols]\n",
    "TCareAgg_df = CareAgg_df[CSVCols]\n",
    "TCareEnroll_df = CareEnroll_df[CSVCols]\n",
    "TCarePerEnroll_df = CarePerEnroll_df[CSVCols]\n",
    "TPHIAgg_df = PHIAgg_df[CSVCols]\n",
    "TPHIEnroll_df = PHIEnroll_df[CSVCols]\n",
    "TPHIPerEnroll_df = PHIPerEnroll_df[CSVCols]\n",
    "USPop_df = USPop_df[CSVCols]\n",
    "TCaidAgg_df.to_csv(\"CleanedData/MedicadeAggregate.csv\",index = False,header = True)\n",
    "TCareAgg_df.to_csv(\"CleanedData/MedicareAggregate.csv\",index = False,header = True)\n",
    "TPHIAgg_df.to_csv(\"CleanedData/PHIAggregate.csv\",index = False,header = True)\n",
    "TCaidEnroll_df.to_csv(\"CleanedData/MedicadeEnroll.csv\",index = False,header = True)\n",
    "TCaidPerEnroll_df.to_csv(\"CleanedData/MedicadePerEnroll.csv\",index = False,header = True)\n",
    "TCareEnroll_df.to_csv(\"CleanedData/MedicareEnroll.csv\",index = False,header = True)\n",
    "TCarePerEnroll_df.to_csv(\"CleanedData/MedicarePerEnroll.csv\",index = False,header = True)\n",
    "TPHIEnroll_df.to_csv(\"CleanedData/PHIEnroll.csv\",index = False,header = True)\n",
    "TPHIPerEnroll_df.to_csv(\"CleanedData/PHIPerEnroll.csv\",index = False,header = True)\n",
    "USPop_df.to_csv(\"CleanedData/USPop.csv\")\n",
    "\n"
   ]
  },
  {
   "cell_type": "markdown",
   "id": "4645711a",
   "metadata": {},
   "source": [
    "# Pull and clean the Census spending CSVs"
   ]
  },
  {
   "cell_type": "code",
   "execution_count": 3,
   "id": "357f927a",
   "metadata": {},
   "outputs": [
    {
     "data": {
      "text/plain": [
       "Index(['Acsst5Y2010.S0101-Data.1.2', 'Geography', 'Geographic Area Name',\n",
       "       'Total  Estimate  Total Population', 'Male  Estimate  Total Population',\n",
       "       'Female  Estimate  Total Population',\n",
       "       'Total  Estimate  Age Under 5 Years',\n",
       "       'Male  Estimate  Age Under 5 Years',\n",
       "       'Female  Estimate  Age Under 5 Years',\n",
       "       'Total  Estimate  Age 5 To 9 Years',\n",
       "       ...\n",
       "       'Female  Estimate  Summary Indicators Age Dependency Ratio Old-Age Dependency Ratio',\n",
       "       'Total  Estimate  Summary Indicators Age Dependency Ratio Child Dependency Ratio',\n",
       "       'Male  Estimate  Summary Indicators Age Dependency Ratio Child Dependency Ratio',\n",
       "       'Female  Estimate  Summary Indicators Age Dependency Ratio Child Dependency Ratio',\n",
       "       'Total  Estimate  Percent Imputed Sex',\n",
       "       'Male  Estimate  Percent Imputed Sex',\n",
       "       'Female  Estimate  Percent Imputed Sex',\n",
       "       'Total  Estimate  Percent Imputed Age',\n",
       "       'Male  Estimate  Percent Imputed Age',\n",
       "       'Female  Estimate  Percent Imputed Age'],\n",
       "      dtype='object', length=111)"
      ]
     },
     "execution_count": 3,
     "metadata": {},
     "output_type": "execute_result"
    }
   ],
   "source": [
    "#pull the census data frame\n",
    "AgeAndSexdf = pd.read_csv(\"CensusData/AgeAndSex.csv\")\n",
    "AgeAndSexdf.columns"
   ]
  },
  {
   "cell_type": "code",
   "execution_count": 4,
   "id": "f5249bb7",
   "metadata": {},
   "outputs": [],
   "source": [
    "\n",
    "#Pull the age and sex data and change the format of % to a usable number\n",
    "TAgeAndSexdf = AgeAndSexdf[[\"Acsst5Y2010.S0101-Data.1.2\",\"Geographic Area Name\",\"Total  Estimate  Total Population\",\"Total  Estimate  Selected Age Categories 65 Years And Over\"]]\n",
    "TChangeAgeAndSexdf = TAgeAndSexdf.loc[TAgeAndSexdf[\"Acsst5Y2010.S0101-Data.1.2\"]!=2020]\n",
    "TChangeAgeAndSexdf = TChangeAgeAndSexdf.loc[TAgeAndSexdf[\"Acsst5Y2010.S0101-Data.1.2\"]!=2019]\n",
    "TChangeAgeAndSexdf = TChangeAgeAndSexdf.loc[TAgeAndSexdf[\"Acsst5Y2010.S0101-Data.1.2\"]!=2018]\n",
    "TChangeAgeAndSexdf = TChangeAgeAndSexdf.loc[TAgeAndSexdf[\"Acsst5Y2010.S0101-Data.1.2\"]!=2017]\n",
    "TChangeAgeAndSexdf[\"Total  Estimate  Selected Age Categories 65 Years And Over\"] = round((TChangeAgeAndSexdf[\"Total  Estimate  Selected Age Categories 65 Years And Over\"]/100*TChangeAgeAndSexdf[\"Total  Estimate  Total Population\"]),0)\n",
    "T2017AgeAndSexdf = TAgeAndSexdf.loc[TAgeAndSexdf[\"Acsst5Y2010.S0101-Data.1.2\"]==2017]\n",
    "TChangeAgeAndSexdf = pd.concat([TChangeAgeAndSexdf,T2017AgeAndSexdf])\n",
    "TChangeAgeAndSexdf = TChangeAgeAndSexdf.loc[TChangeAgeAndSexdf['Geographic Area Name']!=\"Puerto Rico\"]\n",
    "TChangeAgeAndSexdf.to_csv(\"CleanedData/MedicarePopulation.csv\")"
   ]
  },
  {
   "cell_type": "code",
   "execution_count": 5,
   "id": "e9336770",
   "metadata": {},
   "outputs": [
    {
     "name": "stderr",
     "output_type": "stream",
     "text": [
      "/var/folders/08/4n5vtwsd5jg4pw1917ng_prc0000gn/T/ipykernel_1067/2058662708.py:4: SettingWithCopyWarning: \n",
      "A value is trying to be set on a copy of a slice from a DataFrame.\n",
      "Try using .loc[row_indexer,col_indexer] = value instead\n",
      "\n",
      "See the caveats in the documentation: https://pandas.pydata.org/pandas-docs/stable/user_guide/indexing.html#returning-a-view-versus-a-copy\n",
      "  SumCareAgg10[\"Year\"] = \"2010\"\n",
      "/var/folders/08/4n5vtwsd5jg4pw1917ng_prc0000gn/T/ipykernel_1067/2058662708.py:7: SettingWithCopyWarning: \n",
      "A value is trying to be set on a copy of a slice from a DataFrame.\n",
      "Try using .loc[row_indexer,col_indexer] = value instead\n",
      "\n",
      "See the caveats in the documentation: https://pandas.pydata.org/pandas-docs/stable/user_guide/indexing.html#returning-a-view-versus-a-copy\n",
      "  SumCareAgg11[\"Year\"] = \"2011\"\n",
      "/var/folders/08/4n5vtwsd5jg4pw1917ng_prc0000gn/T/ipykernel_1067/2058662708.py:10: SettingWithCopyWarning: \n",
      "A value is trying to be set on a copy of a slice from a DataFrame.\n",
      "Try using .loc[row_indexer,col_indexer] = value instead\n",
      "\n",
      "See the caveats in the documentation: https://pandas.pydata.org/pandas-docs/stable/user_guide/indexing.html#returning-a-view-versus-a-copy\n",
      "  SumCareAgg12[\"Year\"] = \"2012\"\n",
      "/var/folders/08/4n5vtwsd5jg4pw1917ng_prc0000gn/T/ipykernel_1067/2058662708.py:13: SettingWithCopyWarning: \n",
      "A value is trying to be set on a copy of a slice from a DataFrame.\n",
      "Try using .loc[row_indexer,col_indexer] = value instead\n",
      "\n",
      "See the caveats in the documentation: https://pandas.pydata.org/pandas-docs/stable/user_guide/indexing.html#returning-a-view-versus-a-copy\n",
      "  SumCareAgg13[\"Year\"] = \"2013\"\n",
      "/var/folders/08/4n5vtwsd5jg4pw1917ng_prc0000gn/T/ipykernel_1067/2058662708.py:16: SettingWithCopyWarning: \n",
      "A value is trying to be set on a copy of a slice from a DataFrame.\n",
      "Try using .loc[row_indexer,col_indexer] = value instead\n",
      "\n",
      "See the caveats in the documentation: https://pandas.pydata.org/pandas-docs/stable/user_guide/indexing.html#returning-a-view-versus-a-copy\n",
      "  SumCareAgg14[\"Year\"] = \"2014\"\n",
      "/var/folders/08/4n5vtwsd5jg4pw1917ng_prc0000gn/T/ipykernel_1067/2058662708.py:19: SettingWithCopyWarning: \n",
      "A value is trying to be set on a copy of a slice from a DataFrame.\n",
      "Try using .loc[row_indexer,col_indexer] = value instead\n",
      "\n",
      "See the caveats in the documentation: https://pandas.pydata.org/pandas-docs/stable/user_guide/indexing.html#returning-a-view-versus-a-copy\n",
      "  SumCareAgg15[\"Year\"] = \"2015\"\n",
      "/var/folders/08/4n5vtwsd5jg4pw1917ng_prc0000gn/T/ipykernel_1067/2058662708.py:22: SettingWithCopyWarning: \n",
      "A value is trying to be set on a copy of a slice from a DataFrame.\n",
      "Try using .loc[row_indexer,col_indexer] = value instead\n",
      "\n",
      "See the caveats in the documentation: https://pandas.pydata.org/pandas-docs/stable/user_guide/indexing.html#returning-a-view-versus-a-copy\n",
      "  SumCareAgg16[\"Year\"] = \"2016\"\n",
      "/var/folders/08/4n5vtwsd5jg4pw1917ng_prc0000gn/T/ipykernel_1067/2058662708.py:25: SettingWithCopyWarning: \n",
      "A value is trying to be set on a copy of a slice from a DataFrame.\n",
      "Try using .loc[row_indexer,col_indexer] = value instead\n",
      "\n",
      "See the caveats in the documentation: https://pandas.pydata.org/pandas-docs/stable/user_guide/indexing.html#returning-a-view-versus-a-copy\n",
      "  SumCareAgg17[\"Year\"] = \"2017\"\n"
     ]
    }
   ],
   "source": [
    "#change the medicare aggregate data fram into one that has columns for year and state\n",
    "SumCareAgg10 = TCareAgg_df[[\"State_Name\",\"Y2010\",\"Code\",\"Item\"]]\n",
    "SumCareAgg10[\"Year\"] = \"2010\"\n",
    "SumCareAgg10 = SumCareAgg10.rename(columns={'Y2010':'Cost'})\n",
    "SumCareAgg11 = TCareAgg_df[[\"State_Name\",\"Y2011\",\"Code\",\"Item\"]]\n",
    "SumCareAgg11[\"Year\"] = \"2011\"\n",
    "SumCareAgg11 = SumCareAgg11.rename(columns={'Y2011':'Cost'})\n",
    "SumCareAgg12 = TCareAgg_df[[\"State_Name\",\"Y2012\",\"Code\",\"Item\"]]\n",
    "SumCareAgg12[\"Year\"] = \"2012\"\n",
    "SumCareAgg12 = SumCareAgg12.rename(columns={'Y2012':'Cost'})\n",
    "SumCareAgg13 = TCareAgg_df[[\"State_Name\",\"Y2013\",\"Code\",\"Item\"]]\n",
    "SumCareAgg13[\"Year\"] = \"2013\"\n",
    "SumCareAgg13 = SumCareAgg13.rename(columns={'Y2013':'Cost'})\n",
    "SumCareAgg14 = TCareAgg_df[[\"State_Name\",\"Y2014\",\"Code\",\"Item\"]]\n",
    "SumCareAgg14[\"Year\"] = \"2014\"\n",
    "SumCareAgg14 = SumCareAgg14.rename(columns={'Y2014':'Cost'})\n",
    "SumCareAgg15 = TCareAgg_df[[\"State_Name\",\"Y2015\",\"Code\",\"Item\"]]\n",
    "SumCareAgg15[\"Year\"] = \"2015\"\n",
    "SumCareAgg15 = SumCareAgg15.rename(columns={'Y2015':'Cost'})\n",
    "SumCareAgg16 = TCareAgg_df[[\"State_Name\",\"Y2016\",\"Code\",\"Item\"]]\n",
    "SumCareAgg16[\"Year\"] = \"2016\"\n",
    "SumCareAgg16 = SumCareAgg16.rename(columns={'Y2016':'Cost'})\n",
    "SumCareAgg17 = TCareAgg_df[[\"State_Name\",\"Y2017\",\"Code\",\"Item\"]]\n",
    "SumCareAgg17[\"Year\"] = \"2017\"\n",
    "SumCareAgg17 = SumCareAgg17.rename(columns={'Y2017':'Cost'})\n",
    "NewCareAgg = pd.concat([SumCareAgg10,SumCareAgg11,SumCareAgg12,SumCareAgg13,SumCareAgg14,SumCareAgg15,SumCareAgg16,SumCareAgg17])\n",
    "NewCareAgg.to_csv(\"CleanedData/MedicareAggregateTall.csv\")\n"
   ]
  }
 ],
 "metadata": {
  "kernelspec": {
   "display_name": "base",
   "language": "python",
   "name": "python3"
  },
  "language_info": {
   "codemirror_mode": {
    "name": "ipython",
    "version": 3
   },
   "file_extension": ".py",
   "mimetype": "text/x-python",
   "name": "python",
   "nbconvert_exporter": "python",
   "pygments_lexer": "ipython3",
   "version": "3.12.4"
  }
 },
 "nbformat": 4,
 "nbformat_minor": 5
}
