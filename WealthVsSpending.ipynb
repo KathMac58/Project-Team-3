{
 "cells": [
  {
   "cell_type": "code",
   "execution_count": null,
   "id": "fc359b8d-6331-4069-8c13-c22830d73dcb",
   "metadata": {},
   "outputs": [],
   "source": [
    "#Dependencies and setup\n",
    "import matplotlib.pyplot as plt\n",
    "import pandas as pd\n",
    "import numpy as np\n",
    "from scipy.stats import linregress\n",
    "from UsefulFunctions import LinReg\n",
    "from UsefulFunctions import ScatPlotandReg\n",
    "from UsefulFunctions import ScatPlotNoReg"
   ]
  },
  {
   "cell_type": "markdown",
   "id": "aaf87ae3-1255-4e74-a94f-9147dba35395",
   "metadata": {},
   "source": [
    "# Import Cleaned Data"
   ]
  },
  {
   "cell_type": "markdown",
   "id": "e998f2af-0fa1-4836-b409-fc8b591fbe31",
   "metadata": {},
   "source": [
    "# Comparison of Spending and Poverty Rate"
   ]
  },
  {
   "cell_type": "code",
   "execution_count": null,
   "id": "5b855878-fe4a-4b87-88dc-8e6f54483756",
   "metadata": {},
   "outputs": [],
   "source": [
    "#Select necessary columns and combine on State (Aggregate and Poverty Census)"
   ]
  },
  {
   "cell_type": "markdown",
   "id": "5bd67dd6-9d51-42c3-a4dd-a383ed4ba1dc",
   "metadata": {},
   "source": [
    "** Analysis of Medicade and Poverty Rate ** :"
   ]
  }
 ],
 "metadata": {
  "kernelspec": {
   "display_name": "Python 3 (ipykernel)",
   "language": "python",
   "name": "python3"
  },
  "language_info": {
   "codemirror_mode": {
    "name": "ipython",
    "version": 3
   },
   "file_extension": ".py",
   "mimetype": "text/x-python",
   "name": "python",
   "nbconvert_exporter": "python",
   "pygments_lexer": "ipython3",
   "version": "3.12.4"
  }
 },
 "nbformat": 4,
 "nbformat_minor": 5
}
