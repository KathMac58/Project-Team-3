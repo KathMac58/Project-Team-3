{
 "cells": [
  {
   "cell_type": "code",
   "execution_count": null,
   "id": "9b110d42-878d-4087-bb60-1e2aee62ff5b",
   "metadata": {},
   "outputs": [],
   "source": [
    "#Dependencies and setup\n",
    "import matplotlib.pyplot as plt\n",
    "import pandas as pd\n",
    "import numpy as np\n",
    "from scipy.stats import linregress\n",
    "from UsefulFunctions import LinReg\n",
    "from UsefulFunctions import ScatPlotandReg\n",
    "from UsefulFunctions import ScatPlotNoReg"
   ]
  },
  {
   "cell_type": "markdown",
   "id": "3409a06a-20bf-452a-86d0-5a490a7613e6",
   "metadata": {},
   "source": [
    "# Import Cleaned Data"
   ]
  },
  {
   "cell_type": "code",
   "execution_count": null,
   "id": "7614af4b-6330-47da-adcc-5d59a1bd0468",
   "metadata": {},
   "outputs": [],
   "source": []
  },
  {
   "cell_type": "markdown",
   "id": "22b80047-02a9-47ab-8581-149727258d18",
   "metadata": {},
   "source": [
    "# Comparison of Spending and Mortality Rate"
   ]
  },
  {
   "cell_type": "code",
   "execution_count": null,
   "id": "b36a2028-234e-4a3c-b96f-567a1998ae0c",
   "metadata": {},
   "outputs": [],
   "source": [
    "#Select necessary columns and combine on State (Death and Aggregate)"
   ]
  },
  {
   "cell_type": "markdown",
   "id": "5b0436ed-5aed-4ba1-ad34-70a5549e21fe",
   "metadata": {},
   "source": [
    "** Analysis of Spending and Mortality Rate ** :"
   ]
  }
 ],
 "metadata": {
  "kernelspec": {
   "display_name": "Python 3 (ipykernel)",
   "language": "python",
   "name": "python3"
  },
  "language_info": {
   "codemirror_mode": {
    "name": "ipython",
    "version": 3
   },
   "file_extension": ".py",
   "mimetype": "text/x-python",
   "name": "python",
   "nbconvert_exporter": "python",
   "pygments_lexer": "ipython3",
   "version": "3.12.4"
  }
 },
 "nbformat": 4,
 "nbformat_minor": 5
}
