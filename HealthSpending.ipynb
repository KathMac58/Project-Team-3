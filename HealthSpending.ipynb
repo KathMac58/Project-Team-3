{
 "cells": [
  {
   "cell_type": "code",
   "execution_count": 4,
   "id": "1dc51a95-1f0d-4ed9-b167-f047c9a9e253",
   "metadata": {},
   "outputs": [],
   "source": [
    "#Dependencies and setup\n",
    "import matplotlib.pyplot as plt\n",
    "import pandas as pd\n",
    "import numpy as np\n",
    "from scipy.stats import linregress"
   ]
  },
  {
   "cell_type": "markdown",
   "id": "2e3369b9-dfd3-4c8f-9914-ce61963be8ed",
   "metadata": {},
   "source": [
    "# Import CSVs, trim, and prepare dataframes"
   ]
  },
  {
   "cell_type": "code",
   "execution_count": 15,
   "id": "1ab00fab-6f96-45f8-8de3-c97f75080fe4",
   "metadata": {},
   "outputs": [
    {
     "data": {
      "text/plain": [
       "['State_Name',\n",
       " 'Y2010',\n",
       " 'Y2011',\n",
       " 'Y2012',\n",
       " 'Y2013',\n",
       " 'Y2014',\n",
       " 'Y2015',\n",
       " 'Y2016',\n",
       " 'Y2017',\n",
       " 'Y2018',\n",
       " 'Y2019',\n",
       " 'Y2020',\n",
       " 'Item']"
      ]
     },
     "execution_count": 15,
     "metadata": {},
     "output_type": "execute_result"
    }
   ],
   "source": [
    "lcheck = [\"Y\"+str(x) for x in range(2010,2021)]\n",
    "lcheck.insert(0,'State_Name')\n",
    "lcheck.append('Item')\n",
    "lcheck"
   ]
  },
  {
   "cell_type": "code",
   "execution_count": 17,
   "id": "302b5e21-e452-4cd2-845e-169a97c7624e",
   "metadata": {},
   "outputs": [
    {
     "data": {
      "text/html": [
       "<div>\n",
       "<style scoped>\n",
       "    .dataframe tbody tr th:only-of-type {\n",
       "        vertical-align: middle;\n",
       "    }\n",
       "\n",
       "    .dataframe tbody tr th {\n",
       "        vertical-align: top;\n",
       "    }\n",
       "\n",
       "    .dataframe thead th {\n",
       "        text-align: right;\n",
       "    }\n",
       "</style>\n",
       "<table border=\"1\" class=\"dataframe\">\n",
       "  <thead>\n",
       "    <tr style=\"text-align: right;\">\n",
       "      <th></th>\n",
       "      <th>State_Name</th>\n",
       "      <th>Y2010</th>\n",
       "      <th>Y2011</th>\n",
       "      <th>Y2012</th>\n",
       "      <th>Y2013</th>\n",
       "      <th>Y2014</th>\n",
       "      <th>Y2015</th>\n",
       "      <th>Y2016</th>\n",
       "      <th>Y2017</th>\n",
       "      <th>Y2018</th>\n",
       "      <th>Y2019</th>\n",
       "      <th>Y2020</th>\n",
       "      <th>Item</th>\n",
       "    </tr>\n",
       "  </thead>\n",
       "  <tbody>\n",
       "    <tr>\n",
       "      <th>9</th>\n",
       "      <td>Alabama</td>\n",
       "      <td>5003</td>\n",
       "      <td>4426</td>\n",
       "      <td>4767</td>\n",
       "      <td>4671</td>\n",
       "      <td>4990</td>\n",
       "      <td>5044</td>\n",
       "      <td>4818</td>\n",
       "      <td>5189</td>\n",
       "      <td>5350</td>\n",
       "      <td>5649</td>\n",
       "      <td>5731</td>\n",
       "      <td>Medicaid/Personal Health Care (Millions of Dol...</td>\n",
       "    </tr>\n",
       "    <tr>\n",
       "      <th>10</th>\n",
       "      <td>Alaska</td>\n",
       "      <td>1101</td>\n",
       "      <td>1230</td>\n",
       "      <td>1303</td>\n",
       "      <td>1267</td>\n",
       "      <td>1338</td>\n",
       "      <td>1456</td>\n",
       "      <td>1860</td>\n",
       "      <td>1959</td>\n",
       "      <td>2007</td>\n",
       "      <td>2127</td>\n",
       "      <td>1942</td>\n",
       "      <td>Medicaid/Personal Health Care (Millions of Dol...</td>\n",
       "    </tr>\n",
       "    <tr>\n",
       "      <th>11</th>\n",
       "      <td>Arizona</td>\n",
       "      <td>7915</td>\n",
       "      <td>7171</td>\n",
       "      <td>7090</td>\n",
       "      <td>7340</td>\n",
       "      <td>8374</td>\n",
       "      <td>9022</td>\n",
       "      <td>9455</td>\n",
       "      <td>10356</td>\n",
       "      <td>10419</td>\n",
       "      <td>11464</td>\n",
       "      <td>12760</td>\n",
       "      <td>Medicaid/Personal Health Care (Millions of Dol...</td>\n",
       "    </tr>\n",
       "    <tr>\n",
       "      <th>12</th>\n",
       "      <td>Arkansas</td>\n",
       "      <td>3732</td>\n",
       "      <td>3819</td>\n",
       "      <td>3924</td>\n",
       "      <td>4042</td>\n",
       "      <td>4957</td>\n",
       "      <td>5193</td>\n",
       "      <td>5709</td>\n",
       "      <td>5886</td>\n",
       "      <td>6191</td>\n",
       "      <td>6111</td>\n",
       "      <td>6116</td>\n",
       "      <td>Medicaid/Personal Health Care (Millions of Dol...</td>\n",
       "    </tr>\n",
       "    <tr>\n",
       "      <th>13</th>\n",
       "      <td>California</td>\n",
       "      <td>41797</td>\n",
       "      <td>44669</td>\n",
       "      <td>50882</td>\n",
       "      <td>55223</td>\n",
       "      <td>60472</td>\n",
       "      <td>74700</td>\n",
       "      <td>77965</td>\n",
       "      <td>72559</td>\n",
       "      <td>73641</td>\n",
       "      <td>78339</td>\n",
       "      <td>87062</td>\n",
       "      <td>Medicaid/Personal Health Care (Millions of Dol...</td>\n",
       "    </tr>\n",
       "  </tbody>\n",
       "</table>\n",
       "</div>"
      ],
      "text/plain": [
       "    State_Name  Y2010  Y2011  Y2012  Y2013  Y2014  Y2015  Y2016  Y2017  Y2018  \\\n",
       "9      Alabama   5003   4426   4767   4671   4990   5044   4818   5189   5350   \n",
       "10      Alaska   1101   1230   1303   1267   1338   1456   1860   1959   2007   \n",
       "11     Arizona   7915   7171   7090   7340   8374   9022   9455  10356  10419   \n",
       "12    Arkansas   3732   3819   3924   4042   4957   5193   5709   5886   6191   \n",
       "13  California  41797  44669  50882  55223  60472  74700  77965  72559  73641   \n",
       "\n",
       "    Y2019  Y2020                                               Item  \n",
       "9    5649   5731  Medicaid/Personal Health Care (Millions of Dol...  \n",
       "10   2127   1942  Medicaid/Personal Health Care (Millions of Dol...  \n",
       "11  11464  12760  Medicaid/Personal Health Care (Millions of Dol...  \n",
       "12   6111   6116  Medicaid/Personal Health Care (Millions of Dol...  \n",
       "13  78339  87062  Medicaid/Personal Health Care (Millions of Dol...  "
      ]
     },
     "execution_count": 17,
     "metadata": {},
     "output_type": "execute_result"
    }
   ],
   "source": [
    "#Import spending CSVs\n",
    "CaidAgg_df = pd.read_csv(\"SpendingData/MEDICAID_AGGREGATE20.CSV\")\n",
    "CaidEnroll_df = pd.read_csv(\"SpendingData/MEDICAID_ENROLLMENT20.CSV\")\n",
    "CaidPerEnroll_df = pd.read_csv(\"SpendingData/MEDICAID_PER_ENROLLEE20.CSV\")\n",
    "CareAgg_df = pd.read_csv(\"SpendingData/MEDICARE_AGGREGATE20.CSV\")\n",
    "CareEnroll_df = pd.read_csv(\"SpendingData/MEDICARE_ENROLLMENT20.CSV\")\n",
    "CarePerEnroll_df = pd.read_csv(\"SpendingData/MEDICARE_PER_ENROLLEE20.CSV\")\n",
    "PHIAgg_df = pd.read_csv(\"SpendingData/PHI_AGGREGATE20.CSV\")\n",
    "PHIEnroll_df = pd.read_csv(\"SpendingData/PHI_ENROLLMENT20.CSV\")\n",
    "PHIPerEnroll_df = pd.read_csv(\"SpendingData/PHI_PER_ENROLLEE.CSV\")\n",
    "#Trim spending CSVs into relavent time period (2010-2020)\n",
    "CaidAgg_df = CaidAgg_df.dropna(how = 'any')\n",
    "CaidEnroll_df = CaidEnroll_df.dropna(how = 'any')\n",
    "CaidPerEnroll_df = CaidPerEnroll_df.dropna(how = 'any')\n",
    "CareAgg_df = CareAgg_df.dropna(how = 'any')\n",
    "CareEnroll_df = CareEnroll_df.dropna(how = 'any')\n",
    "CarePerEnroll_df = CarePerEnroll_df.dropna(how = 'any')\n",
    "PHIAgg_df = PHIAgg_df.dropna(how = 'any')\n",
    "PHIEnroll_df = PHIEnroll_df.dropna(how = 'any')\n",
    "PHIPerEnroll_df = PHIPerEnroll_df.dropna(how = 'any')\n",
    "#Find wanted columns for the spending CSVs\n",
    "CSVCols = [\"Y\"+str(x) for x in range(2010,2021)]\n",
    "CSVCols.insert(0,'State_Name')\n",
    "CSVCols.append('Item')\n",
    "TCaidAgg_df = CaidAgg_df[CSVCols]\n",
    "TCaidEnroll_df = CaidEnroll_df[CSVCols]\n",
    "TCaidPerEnroll_df = CaidPerEnroll_df[CSVCols]\n",
    "TCareAgg_df = CareAgg_df[CSVCols]\n",
    "TCareEnroll_df = CareEnroll_df[CSVCols]\n",
    "TCarePerEnroll_df = CarePerEnroll_df[CSVCols]\n",
    "TPHIAgg_df = PHIAgg_df[CSVCols]\n",
    "TPHIEnroll_df = PHIEnroll_df[CSVCols]\n",
    "TPHIPerEnroll_df = PHIPerEnroll_df[CSVCols]\n",
    "#Import Census CSVs\n",
    "\n",
    "#Trim Census CSVs into relavent time period (2010-2020)\n",
    "\n",
    "#Import death CSV\n",
    "\n",
    "#Trim death CSV to relavent time period (2010-2020)\n",
    "\n",
    "# Create extra Columns needed for data\n"
   ]
  },
  {
   "cell_type": "markdown",
   "id": "97ea50a9-c5fc-414c-851b-f9915c3a58b7",
   "metadata": {},
   "source": [
    "# Linreg and Scatterplot Functions"
   ]
  },
  {
   "cell_type": "code",
   "execution_count": null,
   "id": "e0f2bf9f-93b1-4a98-bb09-87bbfbbca5d9",
   "metadata": {},
   "outputs": [],
   "source": [
    "#Define LinReg Function that will calculate the Linear Regression of 2 sets of data\n",
    "#Input: takes 2 data series\n",
    "#Output: an array of the slope, intercept, rvalue, pvalue,stderr,line to print and line equation\n",
    "def LinReg(xs,ys):\n",
    "    slope, intercept, rvalue, pvalue, stderr = linregress(xs,ys)\n",
    "    regvalues = slope*xs+intercept\n",
    "    line_eq = \"y = \" + str(round(slope,2)) + \"x + \" + str(round(intercept,2))\n",
    "    linregs = [slope,intercept,rvalue,pvalue,stderr,regvalues,line_eq]\n",
    "    return linregs"
   ]
  },
  {
   "cell_type": "code",
   "execution_count": null,
   "id": "c4aeba7a-f9e0-4651-85cb-47652118f343",
   "metadata": {},
   "outputs": [],
   "source": [
    "#Define ScatPlotandReg creates a scatter plot with a linear Regression show as well as an Rsquared value\n",
    "#Inputs: takes 2 data series, your x and y coordinates, labels for  the axises and a title\n",
    "#Output shows and saves a scatterplot\n",
    "def ScatPlotandReg(xs,ys,xlab,ylab,title,filename):\n",
    "    reginfo = LineReg(xs,ys)\n",
    "    print(f\"The r^2-value is: {reginfo[2]**2}\")\n",
    "    plt.scatter(xs,ys)\n",
    "    plt.xlabel(xlab)\n",
    "    plt.ylabel(ylab)\n",
    "    plt.title(title)\n",
    "    plt.plot(xs,reginfo[5],color = 'r')\n",
    "    plt.annotate(reginfo[6],ha = 'left',va = 'top',fontsize=15,color=\"red\")\n",
    "    plt.savefig(f\"Graphs/{filename}\")\n",
    "    plt.show()"
   ]
  },
  {
   "cell_type": "code",
   "execution_count": null,
   "id": "f75fc139-ef46-45fe-acd9-de998b819f6a",
   "metadata": {},
   "outputs": [],
   "source": [
    "#Define ScatPlotNoReg creates a scatter plot\n",
    "#Inputs: takes 2 data series, your x and y coordinates, labels for  the axises and a title\n",
    "#Output shows and saves a scatterplot\n",
    "def ScatPlotNoReg(xs,ys,xlab,ylab,title,filename):\n",
    "    plt.scatter(xs,ys)\n",
    "    plt.xlabel(xlab)\n",
    "    plt.ylabel(ylab)\n",
    "    plt.title(title)\n",
    "    plt.savefig(f\"Graphs/{filename}\")\n",
    "    plt.show()"
   ]
  },
  {
   "cell_type": "markdown",
   "id": "6ff88082-468d-4e11-9a61-30cdd3c9f9a8",
   "metadata": {},
   "source": [
    "# Comparison of Spending and Mortality Rate"
   ]
  },
  {
   "cell_type": "code",
   "execution_count": null,
   "id": "687c0e50-885a-4e81-b5dc-fa20468697fb",
   "metadata": {},
   "outputs": [],
   "source": [
    "#Select necessary columns and combine on State"
   ]
  },
  {
   "cell_type": "markdown",
   "id": "1d27f736-13ae-40f7-b90b-ea603f55dc5b",
   "metadata": {},
   "source": [
    "** Analysis of Spending and Mortality Rate ** :"
   ]
  },
  {
   "cell_type": "markdown",
   "id": "1979099b-3eeb-48dc-9d01-3f240245c6eb",
   "metadata": {},
   "source": [
    "# Comparison of Medicare and Age"
   ]
  },
  {
   "cell_type": "code",
   "execution_count": null,
   "id": "c36bf2e2-69f5-4e45-ae14-3ffea56268c2",
   "metadata": {},
   "outputs": [],
   "source": [
    "#Select necessary columns and combine on State"
   ]
  },
  {
   "cell_type": "markdown",
   "id": "ac73055d-cb0c-421a-af9d-3775e0c03d0f",
   "metadata": {},
   "source": [
    "** Analysis of Medicare and Age ** :"
   ]
  },
  {
   "cell_type": "markdown",
   "id": "017495e0-1e45-4808-8a55-9367423b46f5",
   "metadata": {},
   "source": [
    "# Comparison of Medicade and Poverty Rate"
   ]
  },
  {
   "cell_type": "code",
   "execution_count": null,
   "id": "a9d20ba0-9ae9-4d24-b38c-57c9607fa6f4",
   "metadata": {},
   "outputs": [],
   "source": [
    "#Select necessary columns and combine on State"
   ]
  },
  {
   "cell_type": "markdown",
   "id": "3fcbff9a-d3d4-459e-8599-58ff7e699cc4",
   "metadata": {},
   "source": [
    "** Analysis of Medicade and Poverty Rate ** :"
   ]
  },
  {
   "cell_type": "markdown",
   "id": "45a4fc29-163d-4862-897d-4cea0fce2452",
   "metadata": {},
   "source": [
    "# Comparison of Spending and Poverty Rate"
   ]
  },
  {
   "cell_type": "code",
   "execution_count": null,
   "id": "c889cd34-16cf-46b1-9589-fe487b9838a8",
   "metadata": {},
   "outputs": [],
   "source": [
    "#Select necessary columns and combine on State"
   ]
  },
  {
   "cell_type": "markdown",
   "id": "2bd6046c-cffb-4d35-ae27-2c3f527de66c",
   "metadata": {},
   "source": [
    "** Analysis of Spending and Poverty Rate ** :"
   ]
  }
 ],
 "metadata": {
  "kernelspec": {
   "display_name": "Python 3 (ipykernel)",
   "language": "python",
   "name": "python3"
  },
  "language_info": {
   "codemirror_mode": {
    "name": "ipython",
    "version": 3
   },
   "file_extension": ".py",
   "mimetype": "text/x-python",
   "name": "python",
   "nbconvert_exporter": "python",
   "pygments_lexer": "ipython3",
   "version": "3.12.4"
  }
 },
 "nbformat": 4,
 "nbformat_minor": 5
}
